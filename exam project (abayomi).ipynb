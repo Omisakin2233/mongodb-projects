{
 "cells": [
  {
   "cell_type": "code",
   "execution_count": 29,
   "metadata": {},
   "outputs": [
    {
     "data": {
      "text/plain": [
       "InsertManyResult([ObjectId('6767527f60dcd83595a3a546'), ObjectId('6767527f60dcd83595a3a547'), ObjectId('6767527f60dcd83595a3a548'), ObjectId('6767527f60dcd83595a3a549'), ObjectId('6767527f60dcd83595a3a54a'), ObjectId('6767527f60dcd83595a3a54b'), ObjectId('6767527f60dcd83595a3a54c'), ObjectId('6767527f60dcd83595a3a54d'), ObjectId('6767527f60dcd83595a3a54e'), ObjectId('6767527f60dcd83595a3a54f'), ObjectId('6767527f60dcd83595a3a550'), ObjectId('6767527f60dcd83595a3a551'), ObjectId('6767527f60dcd83595a3a552'), ObjectId('6767527f60dcd83595a3a553'), ObjectId('6767527f60dcd83595a3a554'), ObjectId('6767527f60dcd83595a3a555'), ObjectId('6767527f60dcd83595a3a556'), ObjectId('6767527f60dcd83595a3a557'), ObjectId('6767527f60dcd83595a3a558'), ObjectId('6767527f60dcd83595a3a559')], acknowledged=True)"
      ]
     },
     "execution_count": 29,
     "metadata": {},
     "output_type": "execute_result"
    }
   ],
   "source": [
    "from pymongo import MongoClient\n",
    "\n",
    "# Connect to MongoDB\n",
    "client = MongoClient('mongodb://localhost:27017/')\n",
    "db = client['ecommerce_db']\n",
    "\n",
    "# Create or switch to the 'products' collection\n",
    "products = db['products']\n",
    "\n",
    "# Insert documents into the 'products' collection\n",
    "products_data = [\n",
    "    { \"product_id\": 1, \"product_name\": \"Laptop\", \"category\": \"Electronics\", \"price\": 1200 },\n",
    "    { \"product_id\": 2, \"product_name\": \"Smartphone\", \"category\": \"Electronics\", \"price\": 800 },\n",
    "    { \"product_id\": 3, \"product_name\": \"Headphones\", \"category\": \"Electronics\", \"price\": 150 },\n",
    "    { \"product_id\": 4, \"product_name\": \"Tablet\", \"category\": \"Electronics\", \"price\": 600 },\n",
    "    { \"product_id\": 5, \"product_name\": \"Monitor\", \"category\": \"Electronics\", \"price\": 300 },\n",
    "    { \"product_id\": 6, \"product_name\": \"Keyboard\", \"category\": \"Electronics\", \"price\": 50 },\n",
    "    { \"product_id\": 7, \"product_name\": \"Mouse\", \"category\": \"Electronics\", \"price\": 25 },\n",
    "    { \"product_id\": 8, \"product_name\": \"Refrigerator\", \"category\": \"Appliances\", \"price\": 1200 },\n",
    "    { \"product_id\": 9, \"product_name\": \"Microwave\", \"category\": \"Appliances\", \"price\": 200 },\n",
    "    { \"product_id\": 10, \"product_name\": \"Washing Machine\", \"category\": \"Appliances\", \"price\": 1000 },\n",
    "    { \"product_id\": 11, \"product_name\": \"Vacuum Cleaner\", \"category\": \"Appliances\", \"price\": 300 },\n",
    "    { \"product_id\": 12, \"product_name\": \"Sofa\", \"category\": \"Furniture\", \"price\": 700 },\n",
    "    { \"product_id\": 13, \"product_name\": \"Dining Table\", \"category\": \"Furniture\", \"price\": 500 },\n",
    "    { \"product_id\": 14, \"product_name\": \"Chair\", \"category\": \"Furniture\", \"price\": 100 },\n",
    "    { \"product_id\": 15, \"product_name\": \"Bed Frame\", \"category\": \"Furniture\", \"price\": 400 },\n",
    "    { \"product_id\": 16, \"product_name\": \"Bookshelf\", \"category\": \"Furniture\", \"price\": 150 },\n",
    "    { \"product_id\": 17, \"product_name\": \"Television\", \"category\": \"Electronics\", \"price\": 900 },\n",
    "    { \"product_id\": 18, \"product_name\": \"Gaming Console\", \"category\": \"Electronics\", \"price\": 500 },\n",
    "    { \"product_id\": 19, \"product_name\": \"Coffee Maker\", \"category\": \"Appliances\", \"price\": 100 },\n",
    "    { \"product_id\": 20, \"product_name\": \"Blender\", \"category\": \"Appliances\", \"price\": 150 }\n",
    "]\n",
    "\n",
    "  \n",
    "\n",
    "\n",
    "products.insert_many(products_data)\n"
   ]
  },
  {
   "cell_type": "code",
   "execution_count": null,
   "metadata": {},
   "outputs": [
    {
     "data": {
      "text/plain": [
       "InsertManyResult([ObjectId('6767527b60dcd83595a3a531'), ObjectId('6767527b60dcd83595a3a532'), ObjectId('6767527b60dcd83595a3a533'), ObjectId('6767527b60dcd83595a3a534'), ObjectId('6767527b60dcd83595a3a535'), ObjectId('6767527b60dcd83595a3a536'), ObjectId('6767527b60dcd83595a3a537'), ObjectId('6767527b60dcd83595a3a538'), ObjectId('6767527b60dcd83595a3a539'), ObjectId('6767527b60dcd83595a3a53a'), ObjectId('6767527b60dcd83595a3a53b'), ObjectId('6767527b60dcd83595a3a53c'), ObjectId('6767527b60dcd83595a3a53d'), ObjectId('6767527b60dcd83595a3a53e'), ObjectId('6767527b60dcd83595a3a53f'), ObjectId('6767527b60dcd83595a3a540'), ObjectId('6767527b60dcd83595a3a541'), ObjectId('6767527b60dcd83595a3a542'), ObjectId('6767527b60dcd83595a3a543'), ObjectId('6767527b60dcd83595a3a544')], acknowledged=True)"
      ]
     },
     "execution_count": 28,
     "metadata": {},
     "output_type": "execute_result"
    }
   ],
   "source": [
    "#create to the customers collection \n",
    "customers = db['customers']\n",
    "#insert document into customers collection \n",
    "customers_data = [\n",
    "    { \"customer_id\": 1, \"name\": \"abayomi\", \"email\": \"alice@example.com\", \"address\": {\"street\": \"123 Maple St\", \"city\": \"Springfield\", \"state\": \"IL\"}},\n",
    "    { \"customer_id\": 2, \"name\": \"Bob\", \"email\": \"bob@example.com\", \"address\": { \"street\": \"456 Oak St\", \"city\": \"Springfield\", \"state\": \"IL\" } },\n",
    "    { \"customer_id\": 3, \"name\": \"Charlie\", \"email\": \"charlie@example.com\", \"address\": { \"street\": \"789 Pine St\", \"city\": \"Springfield\", \"state\": \"IL\" } },\n",
    "    { \"customer_id\": 4, \"name\": \"David\", \"email\": \"david@example.com\", \"address\": { \"street\": \"101 Maple St\", \"city\": \"Springfield\", \"state\": \"IL\" } },\n",
    "    { \"customer_id\": 5, \"name\": \"Eve\", \"email\": \"eve@example.com\", \"address\": { \"street\": \"202 Oak St\", \"city\": \"Springfield\", \"state\": \"IL\" } },\n",
    "    { \"customer_id\": 6, \"name\": \"Frank\", \"email\": \"frank@example.com\", \"address\": { \"street\": \"303 Pine St\", \"city\": \"Springfield\", \"state\": \"IL\" } },\n",
    "    { \"customer_id\": 7, \"name\": \"Grace\", \"email\": \"grace@example.com\", \"address\": { \"street\": \"404 Maple St\", \"city\": \"Springfield\", \"state\": \"IL\" } },\n",
    "    { \"customer_id\": 8, \"name\": \"Hank\", \"email\": \"hank@example.com\", \"address\": { \"street\": \"505 Oak St\", \"city\": \"Springfield\", \"state\": \"IL\" } },\n",
    "    { \"customer_id\": 9, \"name\": \"Ivy\", \"email\": \"ivy@example.com\", \"address\": { \"street\": \"606 Pine St\", \"city\": \"Springfield\", \"state\": \"IL\" } },\n",
    "    { \"customer_id\": 10, \"name\": \"Jack\", \"email\": \"jack@example.com\", \"address\": { \"street\": \"707 Maple St\", \"city\": \"Springfield\", \"state\": \"IL\" } },\n",
    "    { \"customer_id\": 11, \"name\": \"Karen\", \"email\": \"karen@example.com\", \"address\": { \"street\": \"808 Oak St\", \"city\": \"Springfield\", \"state\": \"IL\" } },\n",
    "    { \"customer_id\": 12, \"name\": \"Leo\", \"email\": \"leo@example.com\", \"address\": { \"street\": \"909 Pine St\", \"city\": \"Springfield\", \"state\": \"IL\" } },\n",
    "    { \"customer_id\": 13, \"name\": \"Mia\", \"email\": \"mia@example.com\", \"address\": { \"street\": \"111 Maple St\", \"city\": \"Springfield\", \"state\": \"IL\" } },\n",
    "    { \"customer_id\": 14, \"name\": \"Nina\", \"email\": \"nina@example.com\", \"address\": { \"street\": \"222 Oak St\", \"city\": \"Springfield\", \"state\": \"IL\" } },\n",
    "    { \"customer_id\": 15, \"name\": \"Oscar\", \"email\": \"oscar@example.com\", \"address\": { \"street\": \"333 Pine St\", \"city\": \"Springfield\", \"state\": \"IL\" } },\n",
    "    { \"customer_id\": 16, \"name\": \"Pam\", \"email\": \"pam@example.com\", \"address\": { \"street\": \"444 Maple St\", \"city\": \"Springfield\", \"state\": \"IL\" } },\n",
    "    { \"customer_id\": 17, \"name\": \"Quinn\", \"email\": \"quinn@example.com\", \"address\": { \"street\": \"555 Oak St\", \"city\": \"Springfield\", \"state\": \"IL\" } },\n",
    "    { \"customer_id\": 18, \"name\": \"Rob\", \"email\": \"rob@example.com\", \"address\": { \"street\": \"666 Pine St\", \"city\": \"Springfield\", \"state\": \"IL\" } },\n",
    "    { \"customer_id\": 19, \"name\": \"Sara\", \"email\": \"sara@example.com\", \"address\": { \"street\": \"777 Maple St\", \"city\": \"Springfield\", \"state\": \"IL\" } },\n",
    "    { \"customer_id\": 20, \"name\": \"Tom\", \"email\": \"tom@example.com\", \"address\": { \"street\": \"888 Oak St\", \"city\": \"Springfield\", \"state\": \"IL\" } }\n",
    "\n",
    "]                                                                         \n",
    "\n",
    "\n",
    "\n",
    "customers.insert_many(customers_data)"
   ]
  },
  {
   "cell_type": "code",
   "execution_count": 34,
   "metadata": {},
   "outputs": [
    {
     "data": {
      "text/plain": [
       "InsertManyResult([ObjectId('6767587860dcd83595a3a56e'), ObjectId('6767587860dcd83595a3a56f'), ObjectId('6767587860dcd83595a3a570'), ObjectId('6767587860dcd83595a3a571'), ObjectId('6767587860dcd83595a3a572'), ObjectId('6767587860dcd83595a3a573'), ObjectId('6767587860dcd83595a3a574'), ObjectId('6767587860dcd83595a3a575'), ObjectId('6767587860dcd83595a3a576'), ObjectId('6767587860dcd83595a3a577'), ObjectId('6767587860dcd83595a3a578'), ObjectId('6767587860dcd83595a3a579'), ObjectId('6767587860dcd83595a3a57a'), ObjectId('6767587860dcd83595a3a57b'), ObjectId('6767587860dcd83595a3a57c'), ObjectId('6767587860dcd83595a3a57d'), ObjectId('6767587860dcd83595a3a57e'), ObjectId('6767587860dcd83595a3a57f'), ObjectId('6767587860dcd83595a3a580'), ObjectId('6767587860dcd83595a3a581')], acknowledged=True)"
      ]
     },
     "execution_count": 34,
     "metadata": {},
     "output_type": "execute_result"
    }
   ],
   "source": [
    "\n",
    "#import datatime module for order_date \n",
    "from datetime import datetime\n",
    "from bson import ObjectId\n",
    "\n",
    "#create a orders collection \n",
    "orders = db['orders']\n",
    "#insert document into orders \n",
    "orders_data = [\n",
    "    {\"_id\": ObjectId(), \"order_id\": 5001, \"customer_id\": 1, \"order_date\": datetime(2024, 1, 15, 10, 0, 0), \"status\": \"Delivered\"},\n",
    "    {\"_id\": ObjectId(), \"order_id\": 5002, \"customer_id\": 3, \"order_date\": datetime(2024, 1, 15, 11, 30, 0), \"status\": \"Processing\"},\n",
    "    {\"_id\": ObjectId(), \"order_id\": 5003, \"customer_id\": 2, \"order_date\": datetime(2024, 1, 15, 14, 15, 0), \"status\": \"Shipped\"},\n",
    "    {\"_id\": ObjectId(), \"order_id\": 5004, \"customer_id\": 5, \"order_date\": datetime(2024, 1, 16, 9, 45, 0), \"status\": \"Delivered\"},\n",
    "    {\"_id\": ObjectId(), \"order_id\": 5005, \"customer_id\": 4, \"order_date\": datetime(2024, 1, 16, 13, 20, 0), \"status\": \"Processing\"},\n",
    "    {\"_id\": ObjectId(), \"order_id\": 5006, \"customer_id\": 7, \"order_date\": datetime(2024, 1, 17, 10, 30, 0), \"status\": \"Delivered\"},\n",
    "    {\"_id\": ObjectId(), \"order_id\": 5007, \"customer_id\": 6, \"order_date\": datetime(2024, 1, 17, 15, 45, 0), \"status\": \"Shipped\"},\n",
    "    {\"_id\": ObjectId(), \"order_id\": 5008, \"customer_id\": 9, \"order_date\": datetime(2024, 1, 18, 11, 10, 0), \"status\": \"Processing\"},\n",
    "    {\"_id\": ObjectId(), \"order_id\": 5009, \"customer_id\": 8, \"order_date\": datetime(2024, 1, 18, 16, 30, 0), \"status\": \"Delivered\"},\n",
    "    {\"_id\": ObjectId(), \"order_id\": 5010, \"customer_id\": 10, \"order_date\": datetime(2024, 1, 19, 9, 20, 0), \"status\": \"Shipped\"},\n",
    "    {\"_id\": ObjectId(), \"order_id\": 5011, \"customer_id\": 12, \"order_date\": datetime(2024, 1, 19, 14, 45, 0), \"status\": \"Delivered\"},\n",
    "    {\"_id\": ObjectId(), \"order_id\": 5012, \"customer_id\": 11, \"order_date\": datetime(2024, 1, 20, 10, 15, 0), \"status\": \"Processing\"},\n",
    "    {\"_id\": ObjectId(), \"order_id\": 5013, \"customer_id\": 14, \"order_date\": datetime(2024, 1, 20, 15, 30, 0), \"status\": \"Shipped\"},\n",
    "    {\"_id\": ObjectId(), \"order_id\": 5014, \"customer_id\": 13, \"order_date\": datetime(2024, 1, 21, 11, 45, 0), \"status\": \"Delivered\"},\n",
    "    {\"_id\": ObjectId(), \"order_id\": 5015, \"customer_id\": 15, \"order_date\": datetime(2024, 1, 21, 16, 20, 0), \"status\": \"Processing\"},\n",
    "    {\"_id\": ObjectId(), \"order_id\": 5016, \"customer_id\": 2, \"order_date\": datetime(2024, 1, 22, 9, 30, 0), \"status\": \"Shipped\"},\n",
    "    {\"_id\": ObjectId(), \"order_id\": 5017, \"customer_id\": 4, \"order_date\": datetime(2024, 1, 22, 14, 45, 0), \"status\": \"Delivered\"},\n",
    "    {\"_id\": ObjectId(), \"order_id\": 5018, \"customer_id\": 6, \"order_date\": datetime(2024, 1, 23, 10, 15, 0), \"status\": \"Processing\"},\n",
    "    {\"_id\": ObjectId(), \"order_id\": 5019, \"customer_id\": 8, \"order_date\": datetime(2024, 1, 23, 15, 30, 0), \"status\": \"Shipped\"},\n",
    "    {\"_id\": ObjectId(), \"order_id\": 5020, \"customer_id\": 10, \"order_date\": datetime(2024, 1, 24, 11, 45, 0), \"status\": \"Delivered\"}\n",
    "]\n",
    "\n",
    "orders.insert_many(orders_data)\n"
   ]
  },
  {
   "cell_type": "code",
   "execution_count": 26,
   "metadata": {},
   "outputs": [
    {
     "data": {
      "text/plain": [
       "InsertManyResult([ObjectId('6767527460dcd83595a3a509'), ObjectId('6767527460dcd83595a3a50a'), ObjectId('6767527460dcd83595a3a50b'), ObjectId('6767527460dcd83595a3a50c'), ObjectId('6767527460dcd83595a3a50d'), ObjectId('6767527460dcd83595a3a50e'), ObjectId('6767527460dcd83595a3a50f'), ObjectId('6767527460dcd83595a3a510'), ObjectId('6767527460dcd83595a3a511'), ObjectId('6767527460dcd83595a3a512'), ObjectId('6767527460dcd83595a3a513'), ObjectId('6767527460dcd83595a3a514'), ObjectId('6767527460dcd83595a3a515'), ObjectId('6767527460dcd83595a3a516'), ObjectId('6767527460dcd83595a3a517'), ObjectId('6767527460dcd83595a3a518'), ObjectId('6767527460dcd83595a3a519'), ObjectId('6767527460dcd83595a3a51a'), ObjectId('6767527460dcd83595a3a51b'), ObjectId('6767527460dcd83595a3a51c')], acknowledged=True)"
      ]
     },
     "execution_count": 26,
     "metadata": {},
     "output_type": "execute_result"
    }
   ],
   "source": [
    "\n",
    "#create order_items collection \n",
    "order_items = db['order_items']\n",
    "\n",
    "#insert document into orders_items \n",
    "order_items_data = [\n",
    "    {\"order_item_id\": 1, \"order_id\": 1, \"product_id\": 1, \"quantity\": 1, \"price\": 999.99},\n",
    "    {\"order_item_id\": 2, \"order_id\": 1, \"product_id\": 3, \"quantity\": 1, \"price\": 299.99},\n",
    "    {\"order_item_id\": 3, \"order_id\": 2, \"product_id\": 2, \"quantity\": 1, \"price\": 499.99},\n",
    "    {\"order_item_id\": 4, \"order_id\": 3, \"product_id\": 1, \"quantity\": 2, \"price\": 999.99},\n",
    "    {\"order_item_id\": 5, \"order_id\": 3, \"product_id\": 2, \"quantity\": 1, \"price\": 499.99},\n",
    "    {\"order_item_id\": 6, \"order_id\": 4, \"product_id\": 3, \"quantity\": 3, \"price\": 299.99},\n",
    "    {\"order_item_id\": 7, \"order_id\": 4, \"product_id\": 1, \"quantity\": 1, \"price\": 999.99},\n",
    "    {\"order_item_id\": 8, \"order_id\": 5, \"product_id\": 2, \"quantity\": 2, \"price\": 499.99},\n",
    "    {\"order_item_id\": 9, \"order_id\": 5, \"product_id\": 3, \"quantity\": 1, \"price\": 299.99},\n",
    "    {\"order_item_id\": 10, \"order_id\": 6, \"product_id\": 1, \"quantity\": 1, \"price\": 999.99},\n",
    "    {\"order_item_id\": 11, \"order_id\": 6, \"product_id\": 2, \"quantity\": 3, \"price\": 499.99},\n",
    "    {\"order_item_id\": 12, \"order_id\": 7, \"product_id\": 3, \"quantity\": 2, \"price\": 299.99},\n",
    "    {\"order_item_id\": 13, \"order_id\": 7, \"product_id\": 1, \"quantity\": 1, \"price\": 999.99},\n",
    "    {\"order_item_id\": 14, \"order_id\": 8, \"product_id\": 2, \"quantity\": 1, \"price\": 499.99},\n",
    "    {\"order_item_id\": 15, \"order_id\": 8, \"product_id\": 3, \"quantity\": 4, \"price\": 299.99},\n",
    "    {\"order_item_id\": 16, \"order_id\": 9, \"product_id\": 1, \"quantity\": 2, \"price\": 999.99},\n",
    "    {\"order_item_id\": 17, \"order_id\": 9, \"product_id\": 2, \"quantity\": 2, \"price\": 499.99},\n",
    "    {\"order_item_id\": 18, \"order_id\": 10, \"product_id\": 3, \"quantity\": 1, \"price\": 299.99},\n",
    "    {\"order_item_id\": 19, \"order_id\": 10, \"product_id\": 1, \"quantity\": 1, \"price\": 999.99},\n",
    "    {\"order_item_id\": 20, \"order_id\": 11, \"product_id\": 2, \"quantity\": 3, \"price\": 499.99},\n",
    "  \n",
    "]\n",
    "\n",
    "order_items.insert_many(order_items_data)\n",
    "\n"
   ]
  },
  {
   "cell_type": "code",
   "execution_count": 31,
   "metadata": {},
   "outputs": [
    {
     "name": "stdout",
     "output_type": "stream",
     "text": [
      "[{'_id': 'Electronics', 'total_revenue': 38199.32}, {'_id': None, 'total_revenue': 19099.66}]\n"
     ]
    }
   ],
   "source": [
    "#Use $group to calculate revenue by category.\n",
    "\n",
    "pipeline = [\n",
    "    {\n",
    "        \"$lookup\": {\n",
    "            \"from\": \"products\",\n",
    "            \"localField\": \"product_id\",\n",
    "            \"foreignField\": \"product_id\",\n",
    "            \"as\": \"product_info\"\n",
    "        }\n",
    "    },\n",
    "    {\n",
    "        \"$unwind\": \"$product_info\"\n",
    "    },\n",
    "    {\n",
    "        \"$group\": {\n",
    "            \"_id\": \"$product_info.category\",\n",
    "            \"total_revenue\": {\n",
    "                \"$sum\": {\n",
    "                    \"$multiply\": [\"$quantity\", \"$price\"]\n",
    "                }\n",
    "            }\n",
    "        }\n",
    "    },\n",
    "    {\n",
    "        \"$sort\": {\n",
    "            \"total_revenue\": -1\n",
    "        }\n",
    "    }\n",
    "]\n",
    "\n",
    "result = list(db.order_items.aggregate(pipeline))\n",
    "print(result)\n"
   ]
  },
  {
   "cell_type": "code",
   "execution_count": 36,
   "metadata": {},
   "outputs": [
    {
     "name": "stdout",
     "output_type": "stream",
     "text": [
      "{'_id': None, 'customer_count': 40}\n"
     ]
    }
   ],
   "source": [
    "#Use $group to count customers by state. \n",
    "#Sort the results in descending order.\n",
    "\n",
    "pipeline = [\n",
    "    {\n",
    "        \"$group\": {\n",
    "            \"_id\": \"$state\",\n",
    "            \"customer_count\": { \"$sum\": 1 }\n",
    "        }\n",
    "    },\n",
    "    {\n",
    "        \"$sort\": {\n",
    "            \"customer_count\": -1\n",
    "        }\n",
    "    }\n",
    "]\n",
    "\n",
    "result = list(db.customers.aggregate(pipeline))\n",
    "\n",
    "for doc in result:\n",
    "    print(doc)\n"
   ]
  },
  {
   "cell_type": "code",
   "execution_count": null,
   "metadata": {},
   "outputs": [],
   "source": [
    "#Use $lookup and $sort to find the top products in each order.\n",
    "\n",
    "\n",
    "pipeline = [\n",
    "    {\n",
    "        \"$lookup\": {\n",
    "            \"from\": \"products\",\n",
    "            \"localField\": \"product_id\",\n",
    "            \"foreignField\": \"product_id\",\n",
    "            \"as\": \"product_info\"\n",
    "        }\n",
    "    },\n",
    "    {\n",
    "        \"$unwind\": \"$product_info\"\n",
    "    },\n",
    "    {\n",
    "        \"$sort\": {\n",
    "            \"order_id\": 1,\n",
    "            \"quantity\": -1\n",
    "        }\n",
    "    },\n",
    "    {\n",
    "        \"$group\": {\n",
    "            \"_id\": \"$order_id\",\n",
    "            \"top_products\": {\n",
    "                \"$push\": {\n",
    "                    \"product_name\": \"$product_info.product_name\",\n",
    "                    \"quantity\": \"$quantity\",\n",
    "                    \"price\": \"$price\"\n",
    "                }\n",
    "            }\n",
    "        }\n",
    "    }\n",
    "]\n",
    "\n",
    "result = list(db.order_items.aggregate(pipeline))\n",
    "\n",
    "for doc in result:\n",
    "    print(doc)\n"
   ]
  },
  {
   "cell_type": "code",
   "execution_count": 40,
   "metadata": {},
   "outputs": [
    {
     "data": {
      "text/plain": [
       "'product_id_1'"
      ]
     },
     "execution_count": 40,
     "metadata": {},
     "output_type": "execute_result"
    }
   ],
   "source": [
    "#Choose between embedded and referenced schema designs for each collection and explain why.\n",
    "\n",
    "#Benefits of Referenced Schema\n",
    "#Consistency: Data is updated in one place.\n",
    "#Flexibility: Easy to handle complex relationships.\n",
    "#Efficiency: Simplifies updates and saves storage.\n",
    "#Powerful Queries: Supports advanced searching and reporting.\n",
    "#By using references, your database stays clean and efficient.\n",
    "\n",
    "#Create indexes on frequently queried fields like customer_id and product_id.\n",
    "\n",
    "db.orders.create_index([(\"customer_id\", 1)])\n",
    "db.order_items.create_index([(\"product_id\",1)])\n",
    "db.customers.create_index([(\"customer_id\",1)])\n",
    "db.products.create_index([(\"product_id\",1)])\n"
   ]
  },
  {
   "cell_type": "code",
   "execution_count": null,
   "metadata": {},
   "outputs": [],
   "source": []
  }
 ],
 "metadata": {
  "kernelspec": {
   "display_name": "env",
   "language": "python",
   "name": "python3"
  },
  "language_info": {
   "codemirror_mode": {
    "name": "ipython",
    "version": 3
   },
   "file_extension": ".py",
   "mimetype": "text/x-python",
   "name": "python",
   "nbconvert_exporter": "python",
   "pygments_lexer": "ipython3",
   "version": "3.12.3"
  }
 },
 "nbformat": 4,
 "nbformat_minor": 2
}
